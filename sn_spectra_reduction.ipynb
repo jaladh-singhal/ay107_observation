{
 "cells": [
  {
   "cell_type": "code",
   "execution_count": null,
   "metadata": {
    "ExecuteTime": {
     "end_time": "2024-06-02T04:30:22.834984Z",
     "start_time": "2024-06-02T04:30:22.832405Z"
    }
   },
   "outputs": [],
   "source": [
    "from astropy.io import fits\n",
    "import astropy.constants as c\n",
    "import astropy.units as u\n",
    "import numpy as np\n",
    "import pandas as pd\n",
    "import matplotlib.pyplot as plt\n",
    "import glob\n",
    "import re\n",
    "import os\n",
    "from scipy.signal import find_peaks"
   ]
  },
  {
   "cell_type": "code",
   "execution_count": null,
   "metadata": {
    "ExecuteTime": {
     "end_time": "2024-06-02T04:30:27.637262Z",
     "start_time": "2024-06-02T04:30:27.631318Z"
    }
   },
   "outputs": [],
   "source": [
    "import importlib\n",
    "import util\n",
    "importlib.reload(util) # run this each time util is changed, to prevent restarting kernel"
   ]
  },
  {
   "cell_type": "markdown",
   "metadata": {},
   "source": [
    "## Load data"
   ]
  },
  {
   "cell_type": "code",
   "execution_count": null,
   "metadata": {
    "ExecuteTime": {
     "end_time": "2024-06-02T04:30:28.760723Z",
     "start_time": "2024-06-02T04:30:28.756600Z"
    }
   },
   "outputs": [],
   "source": [
    "dirname = '20240504'"
   ]
  },
  {
   "cell_type": "code",
   "execution_count": null,
   "metadata": {
    "ExecuteTime": {
     "end_time": "2024-06-02T04:30:29.018475Z",
     "start_time": "2024-06-02T04:30:29.014442Z"
    }
   },
   "outputs": [],
   "source": [
    "fpaths = glob.glob(f'{dirname}/*.fits')\n",
    "print(fpaths)"
   ]
  },
  {
   "cell_type": "code",
   "execution_count": null,
   "metadata": {
    "ExecuteTime": {
     "end_time": "2024-06-02T04:30:29.230978Z",
     "start_time": "2024-06-02T04:30:29.223865Z"
    }
   },
   "outputs": [],
   "source": [
    "with fits.open('20240504/red0018.fits') as hdul:\n",
    "    hdul_r18 = hdul\n",
    "hdul_r18[0].header"
   ]
  },
  {
   "cell_type": "code",
   "execution_count": null,
   "metadata": {
    "ExecuteTime": {
     "end_time": "2024-06-02T04:30:29.473713Z",
     "start_time": "2024-06-02T04:30:29.467766Z"
    }
   },
   "outputs": [],
   "source": [
    "with fits.open('20240504/blue0018.fits') as hdul:\n",
    "    hdul_b18 = hdul\n",
    "hdul_b18[0].header"
   ]
  },
  {
   "cell_type": "code",
   "execution_count": null,
   "metadata": {
    "ExecuteTime": {
     "end_time": "2024-06-02T04:30:29.663602Z",
     "start_time": "2024-06-02T04:30:29.661337Z"
    }
   },
   "outputs": [],
   "source": [
    "hdr_keys = ['OBJECT', 'IMGTYPE', 'GAIN', 'EXPTIME', 'UT', 'RA', 'DEC', 'AIRMASS', 'GRATING']"
   ]
  },
  {
   "cell_type": "code",
   "execution_count": null,
   "metadata": {
    "ExecuteTime": {
     "end_time": "2024-06-02T04:30:30.564077Z",
     "start_time": "2024-06-02T04:30:30.085858Z"
    }
   },
   "outputs": [],
   "source": [
    "hdr_data = []\n",
    "data = {}\n",
    "for fpath in fpaths:\n",
    "    with fits.open(fpath) as hdul:\n",
    "        k = re.split(r'/|\\.', fpath)[1]\n",
    "        hdr = hdul[0].header\n",
    "        hdr_data.append([hdr.get(k, None)  for k in hdr_keys])\n",
    "        data[k] = hdul[0].data.astype(float)"
   ]
  },
  {
   "cell_type": "code",
   "execution_count": null,
   "metadata": {
    "ExecuteTime": {
     "end_time": "2024-06-02T04:30:30.569421Z",
     "start_time": "2024-06-02T04:30:30.565880Z"
    }
   },
   "outputs": [],
   "source": [
    "len(data)"
   ]
  },
  {
   "cell_type": "code",
   "execution_count": null,
   "metadata": {
    "ExecuteTime": {
     "end_time": "2024-06-02T04:30:30.712476Z",
     "start_time": "2024-06-02T04:30:30.689639Z"
    }
   },
   "outputs": [],
   "source": [
    "hdr_df = pd.DataFrame(hdr_data, columns=hdr_keys, index=[re.split(r'/|\\.', fpath)[1] for fpath in fpaths])\n",
    "hdr_df.index.name = 'filename'\n",
    "hdr_df.sort_index()"
   ]
  },
  {
   "cell_type": "code",
   "execution_count": null,
   "metadata": {
    "ExecuteTime": {
     "end_time": "2024-06-02T04:30:31.168823Z",
     "start_time": "2024-06-02T04:30:30.964363Z"
    }
   },
   "outputs": [],
   "source": [
    "plt.figure(figsize=(15,3))\n",
    "plt.imshow(data['blue0023'].T, origin='lower', clim=np.percentile(data['blue0023'].T, (1,99)))\n",
    "plt.colorbar()"
   ]
  },
  {
   "cell_type": "code",
   "execution_count": null,
   "metadata": {
    "ExecuteTime": {
     "end_time": "2024-06-02T04:30:31.436908Z",
     "start_time": "2024-06-02T04:30:31.250505Z"
    }
   },
   "outputs": [],
   "source": [
    "util.plot_frame(data['blue0023'].T, label='counts', title='Blue 0023 SN2024eze', prange=(5,95))"
   ]
  },
  {
   "cell_type": "code",
   "execution_count": null,
   "metadata": {
    "ExecuteTime": {
     "end_time": "2024-06-02T04:30:31.812704Z",
     "start_time": "2024-06-02T04:30:31.642243Z"
    }
   },
   "outputs": [],
   "source": [
    "util.plot_frame(data['blue0014'].T, label='counts', title='Blue 0014 Arc', prange=(5,95))"
   ]
  },
  {
   "cell_type": "code",
   "execution_count": null,
   "metadata": {
    "ExecuteTime": {
     "end_time": "2024-06-02T04:30:32.288145Z",
     "start_time": "2024-06-02T04:30:32.102374Z"
    }
   },
   "outputs": [],
   "source": [
    "util.plot_frame(data['blue0004'].T, label='counts', title='Blue 0004 Bias', prange=(5,95))"
   ]
  },
  {
   "cell_type": "code",
   "execution_count": null,
   "metadata": {
    "ExecuteTime": {
     "end_time": "2024-06-02T04:30:32.520138Z",
     "start_time": "2024-06-02T04:30:32.289597Z"
    }
   },
   "outputs": [],
   "source": [
    "util.plot_frame(data['blue0028'].T, label='counts', title='Blue 0028 Calib star', prange=(5,95))"
   ]
  },
  {
   "cell_type": "code",
   "execution_count": null,
   "metadata": {
    "ExecuteTime": {
     "end_time": "2024-06-02T04:30:32.724052Z",
     "start_time": "2024-06-02T04:30:32.524455Z"
    }
   },
   "outputs": [],
   "source": [
    "util.plot_frame(data['red0023'], label='counts', title='Red 0023 SN2024eze', prange=(10, 90))"
   ]
  },
  {
   "cell_type": "code",
   "execution_count": null,
   "metadata": {
    "ExecuteTime": {
     "end_time": "2024-06-02T04:30:32.894601Z",
     "start_time": "2024-06-02T04:30:32.725622Z"
    }
   },
   "outputs": [],
   "source": [
    "util.plot_frame(data['red0020'], label='counts', title='Red 0020 Flat', prange=(10, 90))"
   ]
  },
  {
   "cell_type": "code",
   "execution_count": null,
   "metadata": {
    "ExecuteTime": {
     "end_time": "2024-06-02T04:30:33.075428Z",
     "start_time": "2024-06-02T04:30:32.896114Z"
    }
   },
   "outputs": [],
   "source": [
    "util.plot_frame(data['red0014'], label='counts', title='Red 0014 Arc', prange=(10, 90))"
   ]
  },
  {
   "cell_type": "code",
   "execution_count": null,
   "metadata": {
    "ExecuteTime": {
     "end_time": "2024-06-02T04:30:33.289618Z",
     "start_time": "2024-06-02T04:30:33.110788Z"
    }
   },
   "outputs": [],
   "source": [
    "util.plot_frame(data['red0027'], label='counts', title='Red 0027 Calib star', prange=(10, 90))"
   ]
  },
  {
   "cell_type": "markdown",
   "metadata": {},
   "source": [
    "## Prepare master frames\n",
    "- for flat, bias, arc (denoted as cal in IMGTYPE), calib star"
   ]
  },
  {
   "cell_type": "code",
   "execution_count": null,
   "metadata": {
    "ExecuteTime": {
     "end_time": "2024-06-02T04:30:33.727186Z",
     "start_time": "2024-06-02T04:30:33.724129Z"
    }
   },
   "outputs": [],
   "source": [
    "red_shape = data['red0001'].shape\n",
    "blue_shape = data['blue0001'].shape\n",
    "\n",
    "red_shape,blue_shape"
   ]
  },
  {
   "cell_type": "code",
   "execution_count": null,
   "metadata": {
    "ExecuteTime": {
     "end_time": "2024-06-02T04:30:34.399794Z",
     "start_time": "2024-06-02T04:30:34.390443Z"
    }
   },
   "outputs": [],
   "source": [
    "bias = hdr_df[hdr_df['IMGTYPE'] == 'bias']\n",
    "flats = hdr_df[hdr_df['IMGTYPE'] == 'flat']\n",
    "arcs = hdr_df[hdr_df['IMGTYPE'] == 'cal']\n",
    "calib_star = hdr_df[(hdr_df['IMGTYPE'] == 'object') & (hdr_df['OBJECT'] == 'HD 158261')]"
   ]
  },
  {
   "cell_type": "code",
   "execution_count": null,
   "metadata": {
    "ExecuteTime": {
     "end_time": "2024-06-02T04:30:34.874097Z",
     "start_time": "2024-06-02T04:30:34.803100Z"
    }
   },
   "outputs": [],
   "source": [
    "#remove saturated frames for blue calib star\n",
    "calib_star.drop(calib_star.loc[(calib_star.index.str.contains('blue')) & (calib_star['EXPTIME'] > 0.5)].index, inplace=True)\n",
    "calib_star"
   ]
  },
  {
   "cell_type": "markdown",
   "metadata": {},
   "source": [
    "### Master bias (red)"
   ]
  },
  {
   "cell_type": "code",
   "execution_count": null,
   "metadata": {
    "ExecuteTime": {
     "end_time": "2024-06-02T04:30:35.102164Z",
     "start_time": "2024-06-02T04:30:35.098011Z"
    }
   },
   "outputs": [],
   "source": [
    "def create_master(frame, color, bias=None):\n",
    "    frame_filtered = frame[np.char.startswith(list(frame.index), color)]\n",
    "    shape = red_shape if color=='red' else blue_shape\n",
    "    layers = np.zeros((shape[0], shape[1], frame_filtered.shape[0]))\n",
    "    for i, curr_file in enumerate(frame_filtered.index):\n",
    "        curr_data = data[curr_file]\n",
    "        if bias is not None:\n",
    "            texp = frame_filtered.loc[curr_file, 'EXPTIME']\n",
    "            curr_data = (curr_data - bias) / texp\n",
    "        layers[:, :, i] = curr_data\n",
    "\n",
    "    master = np.median(layers, axis=2)\n",
    "    return master\n"
   ]
  },
  {
   "cell_type": "code",
   "execution_count": null,
   "metadata": {
    "ExecuteTime": {
     "end_time": "2024-06-02T04:30:36.039859Z",
     "start_time": "2024-06-02T04:30:35.357678Z"
    }
   },
   "outputs": [],
   "source": [
    "master_bias_red = create_master(bias, 'red')\n",
    "util.plot_frame(master_bias_red, label='counts', title='Master Bias (red)', prange=(10, 90))"
   ]
  },
  {
   "cell_type": "markdown",
   "metadata": {},
   "source": [
    "### Master bias (blue)"
   ]
  },
  {
   "cell_type": "code",
   "execution_count": null,
   "metadata": {
    "ExecuteTime": {
     "end_time": "2024-06-02T04:30:36.533043Z",
     "start_time": "2024-06-02T04:30:36.041043Z"
    }
   },
   "outputs": [],
   "source": [
    "master_bias_blue = create_master(bias, 'blue')\n",
    "util.plot_frame(master_bias_blue.T, label='counts', title='Master Bias (blue)', prange=(10, 90))"
   ]
  },
  {
   "cell_type": "markdown",
   "metadata": {},
   "source": [
    "### Master flat (red)"
   ]
  },
  {
   "cell_type": "code",
   "execution_count": null,
   "metadata": {
    "ExecuteTime": {
     "end_time": "2024-06-02T04:30:36.849767Z",
     "start_time": "2024-06-02T04:30:36.534628Z"
    }
   },
   "outputs": [],
   "source": [
    "master_flat_red = create_master(flats, 'red', master_bias_red)\n",
    "util.plot_frame(master_flat_red, label='counts/s', title='Master flat (red)', prange=(5, 95))"
   ]
  },
  {
   "cell_type": "markdown",
   "metadata": {},
   "source": [
    "### Master flat (blue)"
   ]
  },
  {
   "cell_type": "code",
   "execution_count": null,
   "metadata": {
    "ExecuteTime": {
     "end_time": "2024-06-02T04:30:37.140584Z",
     "start_time": "2024-06-02T04:30:36.851121Z"
    }
   },
   "outputs": [],
   "source": [
    "master_flat_blue= create_master(flats, 'blue', master_bias_blue)\n",
    "util.plot_frame(master_flat_blue.T, label='counts/s', title='Master flat (blue)', prange=(5, 95))"
   ]
  },
  {
   "cell_type": "markdown",
   "metadata": {},
   "source": [
    "### Master arc (red)"
   ]
  },
  {
   "cell_type": "code",
   "execution_count": null,
   "metadata": {
    "ExecuteTime": {
     "end_time": "2024-06-02T04:30:37.618728Z",
     "start_time": "2024-06-02T04:30:37.284190Z"
    }
   },
   "outputs": [],
   "source": [
    "master_arc_red = create_master(arcs, 'red', master_bias_red)\n",
    "util.plot_frame(master_arc_red, label='counts/s', title='Master arc (red)', prange=(5, 95))"
   ]
  },
  {
   "cell_type": "markdown",
   "metadata": {},
   "source": [
    "### Master arc (blue)"
   ]
  },
  {
   "cell_type": "code",
   "execution_count": null,
   "metadata": {
    "ExecuteTime": {
     "end_time": "2024-06-02T04:30:37.939724Z",
     "start_time": "2024-06-02T04:30:37.669578Z"
    }
   },
   "outputs": [],
   "source": [
    "master_arc_blue = create_master(arcs, 'blue', master_bias_blue)\n",
    "util.plot_frame(master_arc_blue.T, label='counts/s', title='Master arc (blue)', prange=(5, 95))"
   ]
  },
  {
   "cell_type": "markdown",
   "metadata": {},
   "source": [
    "## Rectify frames"
   ]
  },
  {
   "cell_type": "markdown",
   "metadata": {},
   "source": [
    "### Rectify blue\n",
    "#### Find trace using calib star"
   ]
  },
  {
   "cell_type": "code",
   "execution_count": null,
   "metadata": {
    "ExecuteTime": {
     "end_time": "2024-06-02T04:30:38.229518Z",
     "start_time": "2024-06-02T04:30:38.145959Z"
    }
   },
   "outputs": [],
   "source": [
    "master_calib_star_blue = create_master(calib_star, 'blue', master_bias_blue).T"
   ]
  },
  {
   "cell_type": "code",
   "execution_count": null,
   "metadata": {
    "ExecuteTime": {
     "end_time": "2024-06-02T04:30:38.910453Z",
     "start_time": "2024-06-02T04:30:38.707229Z"
    }
   },
   "outputs": [],
   "source": [
    "x_edges_B = [100, 1200, 2400] #0 is dead\n",
    "y_edges_B = [np.argmax(master_calib_star_blue[:,i]) for i in x_edges_B]\n",
    "\n",
    "prange_B = (5,95)\n",
    "util.plot_frame(master_calib_star_blue, figsize=(15, 5), aspect=5, label='counts/s', title='Blue Calib star', prange=prange_B)\n",
    "plt.plot(x_edges_B, y_edges_B, label='trace', color='r')\n",
    "plt.ylim(250, 350)"
   ]
  },
  {
   "cell_type": "code",
   "execution_count": null,
   "metadata": {
    "ExecuteTime": {
     "end_time": "2024-06-02T04:30:39.386321Z",
     "start_time": "2024-06-02T04:30:39.381665Z"
    }
   },
   "outputs": [],
   "source": [
    "trace_x_B = np.arange(0, master_calib_star_blue.shape[1], 1) # x indices remain same\n",
    "# fit a polynomial using x,y edges_B and evaluate entire trace\n",
    "trace_y_B = np.round(np.polyval(np.polyfit(x_edges_B, y_edges_B, 1), trace_x_B)).astype(int) #y indices has to be integers\n",
    "trace_x_B.shape, trace_y_B.shape"
   ]
  },
  {
   "cell_type": "code",
   "execution_count": null,
   "metadata": {
    "ExecuteTime": {
     "end_time": "2024-06-02T04:30:39.876696Z",
     "start_time": "2024-06-02T04:30:39.727681Z"
    }
   },
   "outputs": [],
   "source": [
    "util.plot_frame(master_calib_star_blue, figsize=(15, 5), aspect=5, label='counts/s', title='Blue Calib star', prange=prange_B)\n",
    "plt.plot(trace_x_B, trace_y_B, label='trace', color='r')\n",
    "plt.ylim(250, 350)"
   ]
  },
  {
   "cell_type": "markdown",
   "metadata": {},
   "source": [
    "#### Find y pixel bounds using flat"
   ]
  },
  {
   "cell_type": "code",
   "execution_count": null,
   "metadata": {
    "ExecuteTime": {
     "end_time": "2024-06-02T04:30:40.143303Z",
     "start_time": "2024-06-02T04:30:39.987119Z"
    }
   },
   "outputs": [],
   "source": [
    "util.plot_frame(master_flat_blue.T, aspect=2, label='counts/s', title='Blue Flat', prange=prange_B)\n",
    "plt.plot(trace_x_B, trace_y_B, color='r')\n",
    "\n",
    "y_bound_upper_B, y_bound_lower_B = (91, 200)\n",
    "plt.plot(trace_x_B, trace_y_B+y_bound_upper_B, color='b')\n",
    "plt.plot(trace_x_B, trace_y_B-y_bound_lower_B, color='b')"
   ]
  },
  {
   "cell_type": "code",
   "execution_count": null,
   "metadata": {
    "ExecuteTime": {
     "end_time": "2024-06-02T04:30:40.482602Z",
     "start_time": "2024-06-02T04:30:40.478971Z"
    }
   },
   "outputs": [],
   "source": [
    "master_flat_blue.T.shape"
   ]
  },
  {
   "cell_type": "code",
   "execution_count": null,
   "metadata": {
    "ExecuteTime": {
     "end_time": "2024-06-02T04:30:40.918487Z",
     "start_time": "2024-06-02T04:30:40.900148Z"
    }
   },
   "outputs": [],
   "source": [
    "# 1. Transpose array [where needed]\n",
    "# 2. Pick values column wise within the y bounds\n",
    "rectified_flat_B, rectified_calib_B, rectified_bias_B, rectified_arc_B  = [\n",
    "    util.rectify_frame(frame, trace_y_B, y_bound_upper_B, y_bound_lower_B) for frame in\n",
    "    [master_flat_blue.T, master_calib_star_blue, master_bias_blue.T, master_arc_blue.T]]\n",
    "rectified_flat_B.shape"
   ]
  },
  {
   "cell_type": "markdown",
   "metadata": {},
   "source": [
    "#### Find X-trim bounds\n",
    "Only bright area of flat has meaningful data (division by normalised flat suffers if x isn't trimmed)"
   ]
  },
  {
   "cell_type": "code",
   "execution_count": null,
   "metadata": {
    "ExecuteTime": {
     "end_time": "2024-06-02T04:30:41.198735Z",
     "start_time": "2024-06-02T04:30:41.125799Z"
    }
   },
   "outputs": [],
   "source": [
    "flat1D_B = np.median(rectified_flat_B, axis=0)\n",
    "x_trim_mask_B = np.where((flat1D_B >= np.max(flat1D_B) * 0.03))[0] # selecting 0.03 based on 1D flat\n",
    "\n",
    "plt.figure(figsize=(12,4))\n",
    "plt.plot(flat1D_B)\n",
    "plt.axvline(x_trim_mask_B[0], color='r', alpha=0.5)\n",
    "plt.axvline(x_trim_mask_B[-1], color='r', alpha=0.5)\n",
    "plt.axhline(0, color='black', alpha=0.3)"
   ]
  },
  {
   "cell_type": "code",
   "execution_count": null,
   "metadata": {
    "ExecuteTime": {
     "end_time": "2024-06-02T04:30:41.540439Z",
     "start_time": "2024-06-02T04:30:41.534852Z"
    }
   },
   "outputs": [],
   "source": [
    "# 3. pick values within x-bounds\n",
    "# 4. flip along X-axis (because blue has inverted wavelength axis)\n",
    "rectified_flat_B, rectified_calib_B, rectified_bias_B, rectified_arc_B  = [\n",
    "    frame[:, x_trim_mask_B][:,::-1] for frame in\n",
    "    [rectified_flat_B, rectified_calib_B, rectified_bias_B, rectified_arc_B]]\n",
    "rectified_flat_B.shape"
   ]
  },
  {
   "cell_type": "markdown",
   "metadata": {},
   "source": [
    "#### Rectified blue frames plots"
   ]
  },
  {
   "cell_type": "code",
   "execution_count": null,
   "metadata": {
    "ExecuteTime": {
     "end_time": "2024-06-02T04:30:41.901255Z",
     "start_time": "2024-06-02T04:30:41.898985Z"
    }
   },
   "outputs": [],
   "source": [
    "trace_y_idx_B = y_bound_lower_B"
   ]
  },
  {
   "cell_type": "code",
   "execution_count": null,
   "metadata": {
    "ExecuteTime": {
     "end_time": "2024-06-02T04:30:42.361209Z",
     "start_time": "2024-06-02T04:30:42.214632Z"
    }
   },
   "outputs": [],
   "source": [
    "util.plot_frame(rectified_calib_B, label='counts/s', title='Rectified Blue Calib star', prange=prange_B)\n",
    "plt.axhline(trace_y_idx_B, color='r', alpha=0.9, linewidth=0.5)"
   ]
  },
  {
   "cell_type": "code",
   "execution_count": null,
   "metadata": {
    "ExecuteTime": {
     "end_time": "2024-06-02T04:30:42.481459Z",
     "start_time": "2024-06-02T04:30:42.362880Z"
    }
   },
   "outputs": [],
   "source": [
    "util.plot_frame(rectified_flat_B, label='counts/s', title='Rectified Blue Flat', prange=prange_B)"
   ]
  },
  {
   "cell_type": "code",
   "execution_count": null,
   "metadata": {
    "ExecuteTime": {
     "end_time": "2024-06-02T04:30:42.622767Z",
     "start_time": "2024-06-02T04:30:42.482841Z"
    }
   },
   "outputs": [],
   "source": [
    "util.plot_frame(rectified_bias_B, label='counts', title='Rectified Blue Bias', prange=prange_B)\n"
   ]
  },
  {
   "cell_type": "code",
   "execution_count": null,
   "metadata": {
    "ExecuteTime": {
     "end_time": "2024-06-02T04:30:42.827172Z",
     "start_time": "2024-06-02T04:30:42.679930Z"
    }
   },
   "outputs": [],
   "source": [
    "util.plot_frame(rectified_arc_B, label='counts/s', title='Rectified Blue Arc', prange=prange_B)"
   ]
  },
  {
   "cell_type": "markdown",
   "metadata": {},
   "source": [
    "### Rectify Red\n",
    "#### Find trace"
   ]
  },
  {
   "cell_type": "code",
   "execution_count": null,
   "metadata": {
    "ExecuteTime": {
     "end_time": "2024-06-02T04:30:43.034329Z",
     "start_time": "2024-06-02T04:30:42.929775Z"
    }
   },
   "outputs": [],
   "source": [
    "master_calib_star_red = create_master(calib_star, 'red', master_bias_red)"
   ]
  },
  {
   "cell_type": "code",
   "execution_count": null,
   "metadata": {
    "ExecuteTime": {
     "end_time": "2024-06-02T04:30:43.413868Z",
     "start_time": "2024-06-02T04:30:43.198712Z"
    }
   },
   "outputs": [],
   "source": [
    "x_edges_R = [400, 3600, 4100]\n",
    "y_edges_R = [np.argmax(master_calib_star_red[:,i]) for i in x_edges_R]\n",
    "\n",
    "prange_R = (7,93)\n",
    "util.plot_frame(master_calib_star_red, figsize=(15, 5), aspect=2.5, label='counts/s', title='Red Calib star', prange=prange_R)\n",
    "plt.plot(x_edges_R, y_edges_R, label='trace', color='r')\n"
   ]
  },
  {
   "cell_type": "code",
   "execution_count": null,
   "metadata": {
    "ExecuteTime": {
     "end_time": "2024-06-02T04:30:43.428129Z",
     "start_time": "2024-06-02T04:30:43.423486Z"
    }
   },
   "outputs": [],
   "source": [
    "trace_x_R = np.arange(0, master_calib_star_red.shape[1], 1) # x indices remain same\n",
    "trace_y_R = np.round(np.polyval(np.polyfit(x_edges_R, y_edges_R, 1), trace_x_R)).astype(int) #y indices has to be integers\n",
    "trace_x_R.shape, trace_y_R.shape"
   ]
  },
  {
   "cell_type": "markdown",
   "metadata": {},
   "source": [
    "#### Find y pixel bounds"
   ]
  },
  {
   "cell_type": "code",
   "execution_count": null,
   "metadata": {
    "ExecuteTime": {
     "end_time": "2024-06-02T04:30:43.711283Z",
     "start_time": "2024-06-02T04:30:43.498093Z"
    }
   },
   "outputs": [],
   "source": [
    "util.plot_frame(master_flat_red, figsize=(15, 5), aspect=2.5, label='counts/s', title='Red Calib star', prange=prange_R)\n",
    "plt.plot(trace_x_R, trace_y_R, color='r')\n",
    "\n",
    "y_bound_upper_R, y_bound_lower_R = (282, 120)\n",
    "plt.plot(trace_x_R, trace_y_R+y_bound_upper_R, color='b')\n",
    "plt.plot(trace_x_R, trace_y_R-y_bound_lower_R, color='b')"
   ]
  },
  {
   "cell_type": "code",
   "execution_count": null,
   "metadata": {
    "ExecuteTime": {
     "end_time": "2024-06-02T04:30:43.719016Z",
     "start_time": "2024-06-02T04:30:43.713024Z"
    }
   },
   "outputs": [],
   "source": [
    "master_flat_red.shape"
   ]
  },
  {
   "cell_type": "code",
   "execution_count": null,
   "metadata": {
    "ExecuteTime": {
     "end_time": "2024-06-02T04:30:43.809712Z",
     "start_time": "2024-06-02T04:30:43.780760Z"
    }
   },
   "outputs": [],
   "source": [
    "# 1. Pick values column wise within the y bounds\n",
    "rectified_flat_R, rectified_calib_R, rectified_bias_R, rectified_arc_R  = [\n",
    "    util.rectify_frame(frame, trace_y_R, y_bound_upper_R, y_bound_lower_R) for frame in\n",
    "    [master_flat_red, master_calib_star_red, master_bias_red, master_arc_red]]\n",
    "rectified_flat_R.shape"
   ]
  },
  {
   "cell_type": "markdown",
   "metadata": {},
   "source": [
    "#### Find X-trim bounds\n",
    "Need to remove dead area of detector and include only bright area of flat has meaningful data (division by normalised flat suffers if x isn't trimmed)"
   ]
  },
  {
   "cell_type": "code",
   "execution_count": null,
   "metadata": {
    "ExecuteTime": {
     "end_time": "2024-06-02T04:30:44.069171Z",
     "start_time": "2024-06-02T04:30:43.864323Z"
    }
   },
   "outputs": [],
   "source": [
    "util.plot_frame(rectified_calib_R, label='counts/s', title='Rectified Red Calib star', prange=prange_R)\n",
    "plt.axvline(740, color='r', linestyle='--') # need to discard the bad section too"
   ]
  },
  {
   "cell_type": "code",
   "execution_count": null,
   "metadata": {
    "ExecuteTime": {
     "end_time": "2024-06-02T04:30:44.098432Z",
     "start_time": "2024-06-02T04:30:44.070479Z"
    }
   },
   "outputs": [],
   "source": [
    "np.median(rectified_calib_R, axis=0)[720: 750]"
   ]
  },
  {
   "cell_type": "code",
   "execution_count": null,
   "metadata": {
    "ExecuteTime": {
     "end_time": "2024-06-02T04:30:44.122420Z",
     "start_time": "2024-06-02T04:30:44.099385Z"
    }
   },
   "outputs": [],
   "source": [
    "np.median(rectified_calib_R, axis=0)[731:733]"
   ]
  },
  {
   "cell_type": "code",
   "execution_count": null,
   "metadata": {
    "ExecuteTime": {
     "end_time": "2024-06-02T04:30:44.273713Z",
     "start_time": "2024-06-02T04:30:44.133407Z"
    }
   },
   "outputs": [],
   "source": [
    "flat1D_R = np.median(rectified_flat_R, axis=0)\n",
    "\n",
    "x_trim_mask_R = np.where((flat1D_R >= np.max(flat1D_R) * 0.03))[0]\n",
    "\n",
    "plt.figure(figsize=(12,4))\n",
    "plt.plot(flat1D_R)\n",
    "plt.axvline(x_trim_mask_R[0], color='r', alpha=0.5)\n",
    "plt.axvline(x_trim_mask_R[-1], color='r', alpha=0.5)\n",
    "plt.axvline(732, color='r', linestyle='--', alpha=0.5) # the bad section\n",
    "plt.axhline(0, color='black', alpha=0.3)"
   ]
  },
  {
   "cell_type": "code",
   "execution_count": null,
   "metadata": {
    "ExecuteTime": {
     "end_time": "2024-06-02T04:30:44.279474Z",
     "start_time": "2024-06-02T04:30:44.275212Z"
    }
   },
   "outputs": [],
   "source": [
    "x_trim_mask_R = x_trim_mask_R[x_trim_mask_R>=732]\n",
    "x_trim_mask_R"
   ]
  },
  {
   "cell_type": "code",
   "execution_count": null,
   "metadata": {
    "ExecuteTime": {
     "end_time": "2024-06-02T04:30:44.315164Z",
     "start_time": "2024-06-02T04:30:44.310667Z"
    }
   },
   "outputs": [],
   "source": [
    "rectified_flat_R"
   ]
  },
  {
   "cell_type": "code",
   "execution_count": null,
   "metadata": {
    "ExecuteTime": {
     "end_time": "2024-06-02T04:30:44.381749Z",
     "start_time": "2024-06-02T04:30:44.371374Z"
    }
   },
   "outputs": [],
   "source": [
    "# 2. pick values within x-bounds\n",
    "rectified_flat_R, rectified_calib_R, rectified_bias_R, rectified_arc_R  = [\n",
    "    frame[:, x_trim_mask_R] for frame in\n",
    "    [rectified_flat_R, rectified_calib_R, rectified_bias_R, rectified_arc_R]]\n",
    "rectified_flat_R.shape"
   ]
  },
  {
   "cell_type": "markdown",
   "metadata": {},
   "source": [
    "#### Rectifed Red frames plots"
   ]
  },
  {
   "cell_type": "code",
   "execution_count": null,
   "metadata": {
    "ExecuteTime": {
     "end_time": "2024-06-02T04:30:44.520739Z",
     "start_time": "2024-06-02T04:30:44.518745Z"
    }
   },
   "outputs": [],
   "source": [
    "trace_y_idx_R = y_bound_lower_R"
   ]
  },
  {
   "cell_type": "code",
   "execution_count": null,
   "metadata": {
    "ExecuteTime": {
     "end_time": "2024-06-02T04:30:44.880295Z",
     "start_time": "2024-06-02T04:30:44.697488Z"
    }
   },
   "outputs": [],
   "source": [
    "util.plot_frame(rectified_calib_R, label='counts/s', title='Rectified Red Calib star', prange=prange_R)\n",
    "plt.axhline(trace_y_idx_R, color='r', alpha=0.7)"
   ]
  },
  {
   "cell_type": "code",
   "execution_count": null,
   "metadata": {
    "ExecuteTime": {
     "end_time": "2024-06-02T04:30:45.091697Z",
     "start_time": "2024-06-02T04:30:44.930925Z"
    }
   },
   "outputs": [],
   "source": [
    "util.plot_frame(rectified_flat_R, label='counts/s', title='Rectified Red Flat', prange=prange_R)"
   ]
  },
  {
   "cell_type": "code",
   "execution_count": null,
   "metadata": {
    "ExecuteTime": {
     "end_time": "2024-06-02T04:30:45.270538Z",
     "start_time": "2024-06-02T04:30:45.093651Z"
    }
   },
   "outputs": [],
   "source": [
    "util.plot_frame(rectified_bias_R, label='counts', title='Rectified Red Bias', prange=prange_R)"
   ]
  },
  {
   "cell_type": "code",
   "execution_count": null,
   "metadata": {
    "ExecuteTime": {
     "end_time": "2024-06-02T04:30:45.447630Z",
     "start_time": "2024-06-02T04:30:45.271836Z"
    }
   },
   "outputs": [],
   "source": [
    "util.plot_frame(rectified_arc_R, label='counts/s', title='Rectified Red Arc', prange=prange_R)"
   ]
  },
  {
   "cell_type": "markdown",
   "metadata": {},
   "source": [
    "## Reduce frames \n",
    "- subtract bias, divide by exptime - already done by create_master()\n",
    "- divide by normalised flat"
   ]
  },
  {
   "cell_type": "code",
   "execution_count": null,
   "metadata": {
    "ExecuteTime": {
     "end_time": "2024-06-02T04:30:45.452257Z",
     "start_time": "2024-06-02T04:30:45.449003Z"
    }
   },
   "outputs": [],
   "source": [
    "rectified_flat_B.shape, rectified_flat_R.shape"
   ]
  },
  {
   "cell_type": "markdown",
   "metadata": {},
   "source": [
    "### Red"
   ]
  },
  {
   "cell_type": "code",
   "execution_count": null,
   "metadata": {
    "ExecuteTime": {
     "end_time": "2024-06-02T04:30:45.622921Z",
     "start_time": "2024-06-02T04:30:45.453326Z"
    }
   },
   "outputs": [],
   "source": [
    "normalised_flat_R = rectified_flat_R / np.max(rectified_flat_R)\n",
    "util.plot_frame(normalised_flat_R, label='normalised counts/s', title='Normalised Red Flat', prange=prange_R)"
   ]
  },
  {
   "cell_type": "code",
   "execution_count": null,
   "metadata": {
    "ExecuteTime": {
     "end_time": "2024-06-02T04:30:45.783364Z",
     "start_time": "2024-06-02T04:30:45.623841Z"
    }
   },
   "outputs": [],
   "source": [
    "reduced_rect_calib_R = rectified_calib_R / normalised_flat_R\n",
    "\n",
    "util.plot_frame(reduced_rect_calib_R, label='counts/s', title='Reduced, Rectified Red Calib star', prange=(2,98))\n",
    "plt.axhline(trace_y_idx_R, color='r', alpha=0.7, linewidth=0.5)"
   ]
  },
  {
   "cell_type": "markdown",
   "metadata": {},
   "source": [
    "### Blue"
   ]
  },
  {
   "cell_type": "code",
   "execution_count": null,
   "metadata": {
    "ExecuteTime": {
     "end_time": "2024-06-02T04:30:45.910221Z",
     "start_time": "2024-06-02T04:30:45.784824Z"
    }
   },
   "outputs": [],
   "source": [
    "normalised_flat_B = rectified_flat_B / np.max(rectified_flat_B)\n",
    "util.plot_frame(normalised_flat_B, label='normalised counts/s', title='Normalised Blue Flat', prange=prange_B)"
   ]
  },
  {
   "cell_type": "code",
   "execution_count": null,
   "metadata": {
    "ExecuteTime": {
     "end_time": "2024-06-02T04:30:46.046869Z",
     "start_time": "2024-06-02T04:30:45.911377Z"
    }
   },
   "outputs": [],
   "source": [
    "reduced_rect_calib_B = rectified_calib_B / normalised_flat_B\n",
    "\n",
    "util.plot_frame(reduced_rect_calib_B, label='counts/s', title='Reduced, Rectified Blue Calib star', prange=(2, 98))\n",
    "plt.axhline(trace_y_idx_B, color='r', alpha=0.7, linewidth=0.5)"
   ]
  },
  {
   "cell_type": "markdown",
   "metadata": {},
   "source": [
    "## Wavelength calibration\n",
    "- use arc to derive a px to wvl solution"
   ]
  },
  {
   "cell_type": "markdown",
   "metadata": {},
   "source": [
    "### Blue"
   ]
  },
  {
   "cell_type": "code",
   "execution_count": null,
   "metadata": {
    "ExecuteTime": {
     "end_time": "2024-06-02T04:30:46.052836Z",
     "start_time": "2024-06-02T04:30:46.049669Z"
    }
   },
   "outputs": [],
   "source": [
    "arc_aperture_B = (rectified_calib_B.shape[0]-1 - trace_y_idx_B)\n",
    "arc_aperture_B"
   ]
  },
  {
   "cell_type": "code",
   "execution_count": null,
   "metadata": {
    "ExecuteTime": {
     "end_time": "2024-06-02T04:30:46.062304Z",
     "start_time": "2024-06-02T04:30:46.053884Z"
    }
   },
   "outputs": [],
   "source": [
    "# take median and flip along x-axis\n",
    "arc_1D_spectrum_B = np.median(rectified_arc_B[trace_y_idx_B - arc_aperture_B : trace_y_idx_B + arc_aperture_B + 1], axis=0)\n",
    "rectified_arc_B.shape, arc_1D_spectrum_B.shape"
   ]
  },
  {
   "cell_type": "code",
   "execution_count": null,
   "metadata": {
    "ExecuteTime": {
     "end_time": "2024-06-02T04:30:46.183629Z",
     "start_time": "2024-06-02T04:30:46.063318Z"
    }
   },
   "outputs": [],
   "source": [
    "plt.figure(figsize=(15, 3))\n",
    "plt.plot(arc_1D_spectrum_B)\n",
    "plt.ylabel('median counts/s')\n",
    "plt.title('Blue Arc spectrum')\n",
    "plt.xlim(0, 1200)\n",
    "plt.ylim(-5, np.max(arc_1D_spectrum_B)+15) # to allow space for annotations\n",
    "\n",
    "peaks_x_B, _ = find_peaks(arc_1D_spectrum_B, height=8, distance=12)\n",
    "\n",
    "for i, px in enumerate(peaks_x_B):\n",
    "    plt.axvline(px, color='r', alpha=0.75, linewidth=0.5)\n",
    "    plt.text(px+4, np.max(arc_1D_spectrum_B)+12-(5*(i%3)), f'{px}', fontsize=8, ha='center', va='center')"
   ]
  },
  {
   "cell_type": "code",
   "execution_count": null,
   "metadata": {
    "ExecuteTime": {
     "end_time": "2024-06-02T04:30:46.189445Z",
     "start_time": "2024-06-02T04:30:46.184543Z"
    }
   },
   "outputs": [],
   "source": [
    "# Identified peaks from figure 10c, 10b (page 29-30 in https://sites.astro.caltech.edu/palomar/observer/200inchResources/dbsp/dbspArcAtlas.pdf)\n",
    "# peaks_wvl_B = {\n",
    "#     1816: (4764.865, 'Ar'), # tallest in 10c\n",
    "#     # L to R to tallest ----\n",
    "#     1854: (4806.021, 'Ar'),\n",
    "#     1893: (4847.810, 'Ar'),\n",
    "#     1922: (4879.864, 'Ar'),\n",
    "#     # R to L of tallest -----\n",
    "#     1782: (4726.868, 'Ar'),\n",
    "#     1718: (4657.901, 'Ar'),\n",
    "#     1674: (4609.567, 'Ar'),\n",
    "#     1615: (4545.052, 'Ar'),\n",
    "#     1557: (4481.811, 'Ar'),\n",
    "#     1506: (4426.001, 'Ar'),\n",
    "#     1434: (4348.064, 'Ar'),\n",
    "#     1369: (4277.528, 'Ar'),\n",
    "#     1352: (4259.362, 'Ar'),\n",
    "#     1298: (4198.317, 'Ar'),\n",
    "#     1259: (4158.591, 'Ar'),\n",
    "#     # more in 10b -------\n",
    "#     1234: (4131.724, 'Ar'),\n",
    "#     1209: (4103.912, 'Ar'),\n",
    "#     1155: (4045.813, 'Fe'),\n",
    "#     1007: (3886.282, 'Fe'),\n",
    "#     983: (3859.911, 'Fe'),\n",
    "#     895: (3763.789, 'Fe'),\n",
    "#     853: (3719.935, 'Fe'),\n",
    "#     723: (3581.193, 'Fe')\n",
    "# }\n",
    "\n",
    "# using: {key - 910: value for key, value in peaks_wvl_B.items() if key - 910 >= 0}\n",
    "peaks_wvl_B = {\n",
    " 906: (4764.865, 'Ar'),\n",
    " 944: (4806.021, 'Ar'),\n",
    " 983: (4847.81, 'Ar'),\n",
    " 1012: (4879.864, 'Ar'),\n",
    " 872: (4726.868, 'Ar'),\n",
    " 808: (4657.901, 'Ar'),\n",
    " 764: (4609.567, 'Ar'),\n",
    " 705: (4545.052, 'Ar'),\n",
    " 647: (4481.811, 'Ar'),\n",
    " 596: (4426.001, 'Ar'),\n",
    " 524: (4348.064, 'Ar'),\n",
    " 459: (4277.528, 'Ar'),\n",
    " 442: (4259.362, 'Ar'),\n",
    " 388: (4198.317, 'Ar'),\n",
    " 349: (4158.591, 'Ar'),\n",
    " 324: (4131.724, 'Ar'),\n",
    " 299: (4103.912, 'Ar'),\n",
    " 245: (4045.813, 'Fe'),\n",
    " 97: (3886.282, 'Fe'),\n",
    " 73: (3859.911, 'Fe')\n",
    " }"
   ]
  },
  {
   "cell_type": "code",
   "execution_count": null,
   "metadata": {
    "ExecuteTime": {
     "end_time": "2024-06-02T04:30:46.297770Z",
     "start_time": "2024-06-02T04:30:46.190568Z"
    }
   },
   "outputs": [],
   "source": [
    "plt.figure(figsize=(15, 3))\n",
    "plt.plot(arc_1D_spectrum_B)\n",
    "plt.ylabel('median counts/s')\n",
    "plt.title('Blue Arc spectrum')\n",
    "plt.xlim(0, 1200)\n",
    "plt.ylim(-5, np.max(arc_1D_spectrum_B)+15) # to allow space for annotations\n",
    "\n",
    "\n",
    "for i, (px, wvl) in enumerate(peaks_wvl_B.items()):\n",
    "    line_clr = 'green' if wvl[1]=='Fe' else 'red'\n",
    "    plt.axvline(px, color=line_clr, alpha=0.75, linewidth=0.5, label=wvl[1])\n",
    "    plt.text(px+4, np.max(arc_1D_spectrum_B)+12-(5*(i%3)), f'{wvl[0]}', fontsize=8, ha='center', va='center')\n",
    "\n",
    "# plt.legend();"
   ]
  },
  {
   "cell_type": "code",
   "execution_count": null,
   "metadata": {
    "ExecuteTime": {
     "end_time": "2024-06-02T04:30:46.439555Z",
     "start_time": "2024-06-02T04:30:46.299101Z"
    }
   },
   "outputs": [],
   "source": [
    "peaks_pixels_B = np.array(list(peaks_wvl_B.keys()))\n",
    "peaks_wavelengths_B = np.array([wvl for wvl, _ in peaks_wvl_B.values()])\n",
    "\n",
    "def wvl_solution_B(pixels, deg=2):\n",
    "    coefficients = np.polyfit(peaks_pixels_B, peaks_wavelengths_B, deg)\n",
    "    return np.polyval(coefficients, pixels)\n",
    "\n",
    "plt.scatter(peaks_pixels_B, peaks_wavelengths_B, label='blue arc')\n",
    "plt.plot(peaks_pixels_B, wvl_solution_B(peaks_pixels_B), color='r', label='wavelength solution')\n",
    "plt.xlabel('pixels')\n",
    "plt.ylabel('wavelengths [A]')\n",
    "plt.title('Peaks')\n",
    "plt.legend();"
   ]
  },
  {
   "cell_type": "markdown",
   "metadata": {},
   "source": [
    "### Red"
   ]
  },
  {
   "cell_type": "code",
   "execution_count": null,
   "metadata": {
    "ExecuteTime": {
     "end_time": "2024-06-02T04:30:46.444690Z",
     "start_time": "2024-06-02T04:30:46.440940Z"
    }
   },
   "outputs": [],
   "source": [
    "arc_aperture_R = trace_y_idx_R\n",
    "arc_aperture_R"
   ]
  },
  {
   "cell_type": "code",
   "execution_count": null,
   "metadata": {
    "ExecuteTime": {
     "end_time": "2024-06-02T04:30:46.460721Z",
     "start_time": "2024-06-02T04:30:46.447054Z"
    }
   },
   "outputs": [],
   "source": [
    "arc_1D_spectrum_R = np.median(rectified_arc_R[trace_y_idx_R - arc_aperture_R : trace_y_idx_R + arc_aperture_R + 1], axis=0)\n",
    "arc_1D_spectrum_R.shape"
   ]
  },
  {
   "cell_type": "code",
   "execution_count": null,
   "metadata": {
    "ExecuteTime": {
     "end_time": "2024-06-02T04:30:46.582251Z",
     "start_time": "2024-06-02T04:30:46.461785Z"
    }
   },
   "outputs": [],
   "source": [
    "plt.figure(figsize=(15, 4))\n",
    "plt.plot(arc_1D_spectrum_R)\n",
    "plt.ylabel('median counts/s')\n",
    "plt.title('Red Arc spectrum')\n",
    "plt.xlim(100, 2800)\n",
    "plt.ylim(-500, np.max(arc_1D_spectrum_R)+5000) # to allow space for annotations\n",
    "\n",
    "peaks_x_R, _ = find_peaks(arc_1D_spectrum_R, height=1000, distance=12)\n",
    "\n",
    "for i, px in enumerate(peaks_x_R):\n",
    "    plt.axvline(px, color='r', alpha=0.75, linewidth=0.5)\n",
    "    plt.text(px+4, np.max(arc_1D_spectrum_R)+(1900*(i%3)), f'{px}', fontsize=8, ha='center', va='center')\n",
    "peaks_x_R"
   ]
  },
  {
   "cell_type": "code",
   "execution_count": null,
   "metadata": {
    "ExecuteTime": {
     "end_time": "2024-06-02T04:30:46.587731Z",
     "start_time": "2024-06-02T04:30:46.583187Z"
    }
   },
   "outputs": [],
   "source": [
    "# Identified peaks from figure 16b, 18a (https://sites.astro.caltech.edu/palomar/observer/200inchResources/dbsp/dbspArcAtlas.pdf)\n",
    "# peaks_wvl_R = {\n",
    "#     3385: (9657.786, 'Ar'),\n",
    "#     3105: (9224.499, 'Ar'),\n",
    "#     3040: (9122.967, 'Ar'),\n",
    "#     2651: (8521.442, 'Ar'),\n",
    "#     2589: (8424.648, 'Ar'),\n",
    "#     2485: (8264.522, 'Ar'),\n",
    "#     2388: (8115.311, 'Ar'),\n",
    "#     2323: (8014.786, 'Ar'),\n",
    "#     2280: (7948.176, 'Ar'),\n",
    "#     2135: (7723.761, 'Ar'),\n",
    "#     2077: (7635.106, 'Ar'),\n",
    "#     1992: (7503.869, 'Ar'),\n",
    "#     1231: (6334.428, 'Ne'),  # much less confident in Ne matches\n",
    "#     1263: (6382.992, 'Ne'),\n",
    "#     1276: (6402.246, 'Ne'),\n",
    "#     1344: (6506.628, 'Ne'),\n",
    "#     1456: (6678.276, 'Ne'),\n",
    "#     1481: (6717.043, 'Ne'),\n",
    "# }\n",
    "\n",
    "# {key - 733: value for key, value in peaks_wvl_R.items() if key - 733 >= 0}\n",
    "\n",
    "peaks_wvl_R = {\n",
    " 2652: (9657.786, 'Ar'),\n",
    " 2372: (9224.499, 'Ar'),\n",
    " 2307: (9122.967, 'Ar'),\n",
    " 1918: (8521.442, 'Ar'),\n",
    " 1856: (8424.648, 'Ar'),\n",
    " 1752: (8264.522, 'Ar'),\n",
    " 1655: (8115.311, 'Ar'),\n",
    " 1590: (8014.786, 'Ar'),\n",
    " 1547: (7948.176, 'Ar'),\n",
    " 1402: (7723.761, 'Ar'),\n",
    " 1344: (7635.106, 'Ar'),\n",
    " 1259: (7503.869, 'Ar'),\n",
    " 498: (6334.428, 'Ne'),\n",
    " 530: (6382.992, 'Ne'),\n",
    " 543: (6402.246, 'Ne'),\n",
    " 611: (6506.628, 'Ne'),\n",
    " 723: (6678.276, 'Ne'),\n",
    " 748: (6717.043, 'Ne')\n",
    "}"
   ]
  },
  {
   "cell_type": "code",
   "execution_count": null,
   "metadata": {
    "ExecuteTime": {
     "end_time": "2024-06-02T04:30:46.690675Z",
     "start_time": "2024-06-02T04:30:46.589429Z"
    }
   },
   "outputs": [],
   "source": [
    "plt.figure(figsize=(15, 5))\n",
    "plt.plot(arc_1D_spectrum_R)\n",
    "plt.ylabel('median counts/s')\n",
    "plt.title('Blue Arc spectrum')\n",
    "plt.xlim(100, 2800)\n",
    "plt.ylim(-500, np.max(arc_1D_spectrum_R)+5000) # to allow space for annotations\n",
    "\n",
    "\n",
    "for i, (px, wvl) in enumerate(peaks_wvl_R.items()):\n",
    "    line_clr = 'green' if wvl[1]=='Ne' else 'red'\n",
    "    plt.axvline(px, color=line_clr, alpha=0.75, linewidth=0.5, label=wvl[1])\n",
    "    plt.text(px+4, np.max(arc_1D_spectrum_R)+(1900*(i%3)), f'{wvl[0]}', fontsize=8, ha='center', va='center')\n",
    "\n",
    "# plt.legend();"
   ]
  },
  {
   "cell_type": "code",
   "execution_count": null,
   "metadata": {
    "ExecuteTime": {
     "end_time": "2024-06-02T04:30:46.772935Z",
     "start_time": "2024-06-02T04:30:46.691846Z"
    }
   },
   "outputs": [],
   "source": [
    "peaks_pixels_R = np.array(list(peaks_wvl_R.keys()))\n",
    "peaks_wavelengths_R = np.array([wvl for wvl, _ in peaks_wvl_R.values()])\n",
    "\n",
    "def wvl_solution_R(pixels, deg=2):\n",
    "    coefficients = np.polyfit(peaks_pixels_R, peaks_wavelengths_R, deg)\n",
    "    return np.polyval(coefficients, pixels)\n",
    "\n",
    "plt.scatter(peaks_pixels_R, peaks_wavelengths_R, label='red arc')\n",
    "plt.plot(peaks_pixels_R, wvl_solution_R(peaks_pixels_R), color='r', label='wavelength solution')\n",
    "plt.xlabel('pixels')\n",
    "plt.ylabel('wavelengths [A]')\n",
    "plt.title('Peaks')\n",
    "plt.legend();"
   ]
  },
  {
   "cell_type": "markdown",
   "metadata": {},
   "source": [
    "### Wavelength ranges"
   ]
  },
  {
   "cell_type": "code",
   "execution_count": null,
   "metadata": {
    "ExecuteTime": {
     "end_time": "2024-06-02T04:30:46.778235Z",
     "start_time": "2024-06-02T04:30:46.774584Z"
    }
   },
   "outputs": [],
   "source": [
    "rectified_arc_R.shape"
   ]
  },
  {
   "cell_type": "code",
   "execution_count": null,
   "metadata": {
    "ExecuteTime": {
     "end_time": "2024-06-02T04:30:46.798472Z",
     "start_time": "2024-06-02T04:30:46.794468Z"
    }
   },
   "outputs": [],
   "source": [
    "wvl_range_R = wvl_solution_R(np.arange(0, rectified_arc_R.shape[1]))\n",
    "wvl_range_R"
   ]
  },
  {
   "cell_type": "code",
   "execution_count": null,
   "metadata": {
    "ExecuteTime": {
     "end_time": "2024-06-02T04:30:46.891577Z",
     "start_time": "2024-06-02T04:30:46.888712Z"
    }
   },
   "outputs": [],
   "source": [
    "rectified_arc_B.shape"
   ]
  },
  {
   "cell_type": "code",
   "execution_count": null,
   "metadata": {
    "ExecuteTime": {
     "end_time": "2024-06-02T05:20:25.522744Z",
     "start_time": "2024-06-02T05:20:25.509127Z"
    }
   },
   "outputs": [],
   "source": [
    "wvl_range_B = wvl_solution_B(np.arange(0, rectified_arc_B.shape[1]))\n",
    "wvl_range_B"
   ]
  },
  {
   "cell_type": "code",
   "execution_count": null,
   "metadata": {},
   "outputs": [],
   "source": [
    "# where R starts\n",
    "wvl_range_R[0] "
   ]
  },
  {
   "cell_type": "code",
   "execution_count": null,
   "metadata": {},
   "outputs": [],
   "source": [
    "# find index of a number in B that is just smaller than R's start\n",
    "just_before_R_idx = np.searchsorted(wvl_range_B, wvl_range_R[0])-1 \n",
    "\n",
    "# right-truncated B wavlengths\n",
    "end_idx_B = just_before_R_idx + 1 # because np slicing excludes end index\n",
    "wvl_range_B_trunc = wvl_range_B[: end_idx_B]\n",
    "wvl_range_B_trunc"
   ]
  },
  {
   "cell_type": "markdown",
   "metadata": {},
   "source": [
    "## Airmass correction \n",
    "- use airmass extinction to find zero airmass flux for calib star "
   ]
  },
  {
   "cell_type": "code",
   "execution_count": null,
   "metadata": {
    "ExecuteTime": {
     "end_time": "2024-06-02T04:30:47.105189Z",
     "start_time": "2024-06-02T04:30:47.102700Z"
    }
   },
   "outputs": [],
   "source": []
  },
  {
   "cell_type": "markdown",
   "metadata": {},
   "source": [
    "## Flux calibration\n",
    "- Source and BG extraction on calib star\n",
    "- Derive counts to photons conversion factor for both red and blue"
   ]
  },
  {
   "cell_type": "markdown",
   "metadata": {},
   "source": [
    "### source and background extraction"
   ]
  },
  {
   "cell_type": "markdown",
   "metadata": {},
   "source": [
    "#### Red"
   ]
  },
  {
   "cell_type": "code",
   "execution_count": null,
   "metadata": {
    "ExecuteTime": {
     "end_time": "2024-06-02T04:30:47.359964Z",
     "start_time": "2024-06-02T04:30:47.196336Z"
    }
   },
   "outputs": [],
   "source": [
    "util.plot_frame(reduced_rect_calib_R, prange=(1,99), aspect=7)\n",
    "\n",
    "aperture_idx_R = (trace_y_idx_R-1 - 6, trace_y_idx_R-1 + 6)\n",
    "plt.axhline(y=aperture_idx_R[0], color='r', alpha=0.5)\n",
    "plt.axhline(y=aperture_idx_R[1], color='r', alpha=0.5)\n",
    "# plt.xlim(1000, 1200)\n",
    "plt.ylim(trace_y_idx_R - 10 * 6,trace_y_idx_R + 10 * 6 ); "
   ]
  },
  {
   "cell_type": "code",
   "execution_count": null,
   "metadata": {
    "ExecuteTime": {
     "end_time": "2024-06-02T04:30:47.440199Z",
     "start_time": "2024-06-02T04:30:47.361519Z"
    }
   },
   "outputs": [],
   "source": [
    "calib_spectrum_R = np.sum(\n",
    "    rectified_calib_R[aperture_idx_R[0]: aperture_idx_R[1]+1, :],\n",
    "    axis=0)\n",
    "plt.plot(wvl_range_R, calib_spectrum_R)\n",
    "plt.xlabel(\"wavelength (angstroms)\")\n",
    "plt.ylabel(\"Total counts / s\")\n",
    "plt.title(\"rectified calib star spectrum (RED)\")"
   ]
  },
  {
   "cell_type": "code",
   "execution_count": null,
   "metadata": {
    "ExecuteTime": {
     "end_time": "2024-06-02T04:30:47.508829Z",
     "start_time": "2024-06-02T04:30:47.441664Z"
    }
   },
   "outputs": [],
   "source": [
    "calib_spectrum_R = np.sum(\n",
    "    reduced_rect_calib_R[aperture_idx_R[0]: aperture_idx_R[1]+1, :],\n",
    "    axis=0)\n",
    "plt.plot(wvl_range_R, calib_spectrum_R)\n",
    "plt.xlabel(\"wavelength (angstroms)\")\n",
    "plt.ylabel(\"Total counts / s\")\n",
    "plt.title(\"reduced rectified calib star spectrum (RED)\")"
   ]
  },
  {
   "cell_type": "code",
   "execution_count": null,
   "metadata": {
    "ExecuteTime": {
     "end_time": "2024-06-02T04:30:47.647922Z",
     "start_time": "2024-06-02T04:30:47.510287Z"
    }
   },
   "outputs": [],
   "source": [
    "bg_upper_idx_R = (aperture_idx_R[1]+10, aperture_idx_R[1]+20)\n",
    "bg_lower_idx_R = (aperture_idx_R[0]-20, aperture_idx_R[0]-10)\n",
    "\n",
    "util.plot_frame(reduced_rect_calib_R, prange=(3,97), aspect=7)\n",
    "plt.ylim(trace_y_idx_R - 10 * 6,trace_y_idx_R + 10 * 6 )\n",
    "plt.axhline(y=aperture_idx_R[0], color='r')\n",
    "plt.axhline(y=aperture_idx_R[1], color='r')\n",
    "\n",
    "plt.axhline(bg_lower_idx_R[0], color='g', alpha=0.8)\n",
    "plt.axhline(bg_lower_idx_R[1], color='g', alpha=0.8)\n",
    "plt.axhline(bg_upper_idx_R[0], color='y', alpha=0.8)\n",
    "plt.axhline(bg_upper_idx_R[1], color='y', alpha=0.8)"
   ]
  },
  {
   "cell_type": "code",
   "execution_count": null,
   "metadata": {
    "ExecuteTime": {
     "end_time": "2024-06-02T04:30:47.716373Z",
     "start_time": "2024-06-02T04:30:47.649490Z"
    }
   },
   "outputs": [],
   "source": [
    "upper_bg_R = reduced_rect_calib_R[bg_upper_idx_R[0]: bg_upper_idx_R[1]+1]\n",
    "lower_bg_R = reduced_rect_calib_R[bg_lower_idx_R[0]: bg_lower_idx_R[1]+1]\n",
    "\n",
    "bg_R = np.vstack([upper_bg_R, lower_bg_R])\n",
    "\n",
    "bg_signal_R = np.median(bg_R, axis=0)\n",
    "plt.plot(wvl_range_R, bg_signal_R)\n",
    "plt.xlabel(\"wavelength (angstroms)\")\n",
    "plt.ylabel(\"Median counts / s\")\n",
    "plt.title(\"Red calib star background signal\")"
   ]
  },
  {
   "cell_type": "code",
   "execution_count": null,
   "metadata": {
    "ExecuteTime": {
     "end_time": "2024-06-02T04:30:47.783057Z",
     "start_time": "2024-06-02T04:30:47.717210Z"
    }
   },
   "outputs": [],
   "source": [
    "aperture_nrows_R = aperture_idx_R[1]-aperture_idx_R[0]+1 #both are inclusive\n",
    "summed_bg_R = bg_signal_R * aperture_nrows_R\n",
    "calib_bg_subtracted_R = calib_spectrum_R - summed_bg_R\n",
    "plt.plot(wvl_range_R, calib_bg_subtracted_R)\n",
    "\n",
    "plt.xlabel(\"wavelength (angstroms)\")\n",
    "plt.ylabel(\"Total counts / s\")\n",
    "plt.title(\"reduced rectified background-subtracted calib star spectrum (RED)\")"
   ]
  },
  {
   "cell_type": "markdown",
   "metadata": {},
   "source": [
    "#### Blue"
   ]
  },
  {
   "cell_type": "code",
   "execution_count": null,
   "metadata": {
    "ExecuteTime": {
     "end_time": "2024-06-02T04:30:47.910482Z",
     "start_time": "2024-06-02T04:30:47.784742Z"
    }
   },
   "outputs": [],
   "source": [
    "util.plot_frame(reduced_rect_calib_B, prange=(1,99), aspect=5)\n",
    "\n",
    "aperture_idx_B = (trace_y_idx_B+1 - 8, trace_y_idx_B+1 + 8)\n",
    "plt.axhline(y=aperture_idx_B[0], color='r', alpha=0.5)\n",
    "plt.axhline(y=aperture_idx_B[1], color='r', alpha=0.5)\n",
    "# plt.xlim(1000, 1200)\n",
    "plt.ylim(trace_y_idx_B - 60, trace_y_idx_B + 60); "
   ]
  },
  {
   "cell_type": "code",
   "execution_count": null,
   "metadata": {
    "ExecuteTime": {
     "end_time": "2024-06-02T04:30:47.986958Z",
     "start_time": "2024-06-02T04:30:47.911331Z"
    }
   },
   "outputs": [],
   "source": [
    "calib_spectrum_B = np.sum(\n",
    "    rectified_calib_B[aperture_idx_B[0]: aperture_idx_B[1]+1, :end_idx_B], \n",
    "    axis=0)\n",
    "plt.plot(wvl_range_B_trunc, calib_spectrum_B)\n",
    "plt.xlabel(\"wavelength (angstroms)\")\n",
    "plt.ylabel(\"Total counts / s\")\n",
    "plt.title(\"rectified calib star spectrum (BLUE)\")"
   ]
  },
  {
   "cell_type": "code",
   "execution_count": null,
   "metadata": {
    "ExecuteTime": {
     "end_time": "2024-06-02T04:30:48.058583Z",
     "start_time": "2024-06-02T04:30:47.988675Z"
    }
   },
   "outputs": [],
   "source": [
    "calib_spectrum_B = np.sum(\n",
    "    reduced_rect_calib_B[aperture_idx_B[0]: aperture_idx_B[1]+1, :end_idx_B], \n",
    "    axis=0)\n",
    "plt.plot(wvl_range_B_trunc, calib_spectrum_B)\n",
    "plt.xlabel(\"wavelength (angstroms)\")\n",
    "plt.ylabel(\"Total counts / s\")\n",
    "plt.title(\"reduced rectified calib star spectrum (BLUE)\")"
   ]
  },
  {
   "cell_type": "code",
   "execution_count": null,
   "metadata": {
    "ExecuteTime": {
     "end_time": "2024-06-02T04:30:48.175937Z",
     "start_time": "2024-06-02T04:30:48.059383Z"
    }
   },
   "outputs": [],
   "source": [
    "bg_upper_idx_B = (aperture_idx_B[1]+10, aperture_idx_B[1]+20)\n",
    "bg_lower_idx_B = (aperture_idx_B[0]-20, aperture_idx_B[0]-10)\n",
    "\n",
    "util.plot_frame(reduced_rect_calib_B, prange=(3,97), aspect=5)\n",
    "plt.ylim(trace_y_idx_B - 60, trace_y_idx_B + 60)\n",
    "plt.axhline(y=aperture_idx_B[0], color='r')\n",
    "plt.axhline(y=aperture_idx_B[1], color='r')\n",
    "\n",
    "plt.axhline(bg_lower_idx_B[0], color='g', alpha=0.8)\n",
    "plt.axhline(bg_lower_idx_B[1], color='g', alpha=0.8)\n",
    "plt.axhline(bg_upper_idx_B[0], color='y', alpha=0.8)\n",
    "plt.axhline(bg_upper_idx_B[1], color='y', alpha=0.8)"
   ]
  },
  {
   "cell_type": "code",
   "execution_count": null,
   "metadata": {
    "ExecuteTime": {
     "end_time": "2024-06-02T04:30:48.251227Z",
     "start_time": "2024-06-02T04:30:48.178066Z"
    }
   },
   "outputs": [],
   "source": [
    "lower_bg_B = reduced_rect_calib_B[bg_lower_idx_B[0] : bg_lower_idx_B[1]+1]\n",
    "upper_bg_B = reduced_rect_calib_B[bg_upper_idx_B[0] : bg_upper_idx_B[1]+1]\n",
    "\n",
    "bg_B = np.vstack([upper_bg_B, lower_bg_B])\n",
    "\n",
    "bg_signal_B = np.median(bg_B[:, :end_idx_B], axis=0)\n",
    "plt.plot(wvl_range_B_trunc, bg_signal_B)\n",
    "plt.xlabel(\"wavelength (angstroms)\")\n",
    "plt.ylabel(\"Median counts / s\")\n",
    "plt.title(\"median background signal (BLUE)\")"
   ]
  },
  {
   "cell_type": "code",
   "execution_count": null,
   "metadata": {
    "ExecuteTime": {
     "end_time": "2024-06-02T04:30:48.424313Z",
     "start_time": "2024-06-02T04:30:48.252045Z"
    }
   },
   "outputs": [],
   "source": [
    "aperture_nrows_B = aperture_idx_B[1]-aperture_idx_B[0]+1 #both are inclusive\n",
    "summed_bg_B = bg_signal_B * aperture_nrows_B\n",
    "calib_bg_subtracted_B = calib_spectrum_B - summed_bg_B\n",
    "plt.plot(wvl_range_B_trunc, calib_bg_subtracted_B)\n",
    "plt.xlabel(\"wavelength (angstroms)\")\n",
    "plt.ylabel(\"Total counts / s\")\n",
    "plt.title(\"reduced rectified background-subtracted calib star spectrum (blue)\");"
   ]
  },
  {
   "cell_type": "code",
   "execution_count": null,
   "metadata": {
    "ExecuteTime": {
     "end_time": "2024-06-02T04:30:48.509059Z",
     "start_time": "2024-06-02T04:30:48.426606Z"
    }
   },
   "outputs": [],
   "source": [
    "wvl_solution = np.hstack([wvl_range_B_trunc, wvl_range_R])\n",
    "calib_final = np.hstack([calib_bg_subtracted_B, calib_bg_subtracted_R])\n",
    "plt.plot(wvl_solution, calib_final)\n",
    "plt.xlabel(\"wavelength (angstroms)\")\n",
    "plt.ylabel(\"counts / s\")\n",
    "plt.title(\"reduced rectified background-subtracted calib star spectrum (COMBINED)\");"
   ]
  },
  {
   "cell_type": "markdown",
   "metadata": {},
   "source": [
    "### Reference spectrum from pysynphot"
   ]
  },
  {
   "cell_type": "code",
   "execution_count": null,
   "metadata": {
    "ExecuteTime": {
     "end_time": "2024-06-02T04:30:50.865835Z",
     "start_time": "2024-06-02T04:30:48.510141Z"
    }
   },
   "outputs": [],
   "source": [
    "# add env variable before importing pysynphot\n",
    "pysyn_env_location = os.path.join(os.getcwd(), 'grp/redcat/trds/')\n",
    "os.environ['PYSYN_CDBS'] = pysyn_env_location #note: CDBS not CBDS which is why it was throwing errors\n",
    "\n",
    "import pysynphot as S"
   ]
  },
  {
   "cell_type": "code",
   "execution_count": null,
   "metadata": {},
   "outputs": [],
   "source": [
    "# from https://articles.adsabs.harvard.edu/full/2006MNRAS.368..247C/0000247.000.html: \n",
    "# Teff: 9900+-220, log g: 4.00+-0.10, assuming metallicity [M/H] = 0\n",
    "\n",
    "ref_spec = S.Icat('k93models', 9900, 0, 4.0)\n",
    "ref_spec"
   ]
  },
  {
   "cell_type": "code",
   "execution_count": null,
   "metadata": {},
   "outputs": [],
   "source": [
    "# resample ref spectrum to our wavelength grid\n",
    "ref_spec_resampled = ref_spec.resample(wvl_solution) #TODO: try scipy.signal.resample() over this\n",
    "ref_spec.wave.shape, ref_spec_resampled.wave.shape"
   ]
  },
  {
   "cell_type": "code",
   "execution_count": null,
   "metadata": {},
   "outputs": [],
   "source": [
    "plt.plot(ref_spec_resampled.wave, ref_spec_resampled.flux)\n",
    "# plt.xlim(wvl_solution[0],wvl_solution[-1])\n",
    "plt.xlabel(f'Wavelength [{ref_spec_resampled.waveunits}]')\n",
    "plt.ylabel(f'Flux [{ref_spec_resampled.fluxunits}]')\n",
    "plt.title('Surface flux of Reference star (HD 158261)\\n[Resampled to our wavelength grid]');"
   ]
  },
  {
   "cell_type": "code",
   "execution_count": null,
   "metadata": {},
   "outputs": [],
   "source": [
    "# surface flux to absolute flux can be obtained by renormalisation\n",
    "# as mentioned at 2nd para in https://pysynphot.readthedocs.io/en/latest/appendixa.html#kurucz-atlas\n",
    "\n",
    "\n",
    "# from https://simbad.cds.unistra.fr/simbad/sim-id?Ident=HD+158261&NbIdent=1&Radius=2&Radius.unit=arcmin&submit=submit+id\n",
    "# V = 5.94 vegamag (default mag system is vega unless specified as per https://simbad.cds.unistra.fr/guide/sim-id.htx)\n",
    "ref_spec_resampled_abs = ref_spec_resampled.renorm(5.94, 'vegamag', S.ObsBandpass('johnson,v'))"
   ]
  },
  {
   "cell_type": "code",
   "execution_count": null,
   "metadata": {},
   "outputs": [],
   "source": [
    "plt.plot(ref_spec_resampled_abs.wave, ref_spec_resampled_abs.flux)\n",
    "# plt.xlim(wvl_solution[0],wvl_solution[-1])\n",
    "plt.xlabel(f'Wavelength [{ref_spec_resampled_abs.waveunits}]')\n",
    "plt.ylabel(f'Flux [{ref_spec_resampled_abs.fluxunits}]')\n",
    "plt.title('Absolute flux of Reference star (HD 158261)');"
   ]
  },
  {
   "cell_type": "code",
   "execution_count": null,
   "metadata": {
    "ExecuteTime": {
     "end_time": "2024-06-02T05:14:13.705019Z",
     "start_time": "2024-06-02T05:14:13.613404Z"
    }
   },
   "outputs": [],
   "source": [
    "plt.figure(figsize=(15, 6))\n",
    "plt.plot(wvl_solution, calib_final/np.max(calib_final), label='observed')\n",
    "plt.plot(ref_spec_resampled_abs.wave, ref_spec_resampled_abs.flux/np.max(ref_spec_resampled_abs.flux), label='reference', alpha=0.7)\n",
    "plt.legend()\n",
    "plt.xlabel('Wavelength [A]')\n",
    "plt.ylabel('Normalised flux');\n",
    "# plt.xlim(3700, 5000)"
   ]
  },
  {
   "cell_type": "code",
   "execution_count": null,
   "metadata": {},
   "outputs": [],
   "source": [
    "ref_spec_resampled_abs.fluxunits # flam = erg s-1 cm-2 A-1"
   ]
  },
  {
   "cell_type": "code",
   "execution_count": null,
   "metadata": {},
   "outputs": [],
   "source": [
    "calibration_flux = (ref_spec_resampled_abs.flux * u.Unit('erg s-1 cm-2 AA-1')) / (calib_final * u.Unit('count/s'))\n",
    "calibration_flux"
   ]
  },
  {
   "cell_type": "code",
   "execution_count": null,
   "metadata": {},
   "outputs": [],
   "source": [
    "plt.plot(wvl_solution, calibration_flux * calib_final) #sanity check\n",
    "# plt.xlim(3700, 5000)"
   ]
  },
  {
   "cell_type": "markdown",
   "metadata": {},
   "source": [
    "### Creating flux calibration"
   ]
  },
  {
   "cell_type": "code",
   "execution_count": null,
   "metadata": {
    "ExecuteTime": {
     "end_time": "2024-06-02T05:14:02.140020Z",
     "start_time": "2024-06-02T05:14:02.114297Z"
    }
   },
   "outputs": [],
   "source": [
    "ref_spectrum_filename = os.path.join(pysyn_env_location, 'grid', 'k93models', 'kp00', 'kp00_10000.fits')\n",
    "\n",
    "# from https://articles.adsabs.harvard.edu/full/2006MNRAS.368..247C/0000247.000.html: Teff: 9900+-220, log g: 4.00+-0.10\n",
    "# assuming metallicity [M/H] = 0 and T = 10000K hence, kp00_10000\n",
    "ref_spectrum = fits.getdata(ref_spectrum_filename)\n",
    "ref_wave_calib = ref_spectrum['WAVELENGTH']\n",
    "ref_flux_calib = ref_spectrum['g40']  # at log(g) = 4.0"
   ]
  },
  {
   "cell_type": "code",
   "execution_count": null,
   "metadata": {
    "ExecuteTime": {
     "end_time": "2024-06-02T05:30:20.382519Z",
     "start_time": "2024-06-02T05:30:20.284087Z"
    }
   },
   "outputs": [],
   "source": [
    "plt.plot(ref_wave_calib, ref_flux_calib, label='reference star (HD 158261)')\n",
    "plt.xlim(3500, 10000)\n",
    "plt.xlabel(S.Vega.waveunits)\n",
    "plt.ylabel(S.Vega.fluxunits)\n",
    "plt.title(os.path.basename(S.Vega.name))\n",
    "#plt.plot(S.Vega.wave, S.Vega.flux / np.max(S.Vega.flux))\n",
    "\n",
    "vega_flux_conversion = np.max(ref_flux_calib) / np.max(S.Vega.flux) # scaling vega to reference star\n",
    "plt.plot(S.Vega.wave, S.Vega.flux * vega_flux_conversion, alpha=0.6, label='Vega')\n",
    "\n",
    "plt.xlim(3500, 6000)\n",
    "plt.legend();"
   ]
  },
  {
   "cell_type": "markdown",
   "metadata": {},
   "source": [
    "The shapes of the two spectra are identical (just different units) -- I ended up using Vega's spectrum because it behaved better when upsampling. The units of the reference spectrum are ergs/s/cm^2/A and are *surface flux*, meaning we do need to do distance scaling."
   ]
  },
  {
   "cell_type": "code",
   "execution_count": null,
   "metadata": {
    "ExecuteTime": {
     "end_time": "2024-06-02T05:34:08.693389Z",
     "start_time": "2024-06-02T05:34:08.686169Z"
    }
   },
   "outputs": [],
   "source": [
    "import astropy.units as u\n",
    "from astropy import constants as const\n",
    "ref_flux = S.Vega.flux * vega_flux_conversion\n",
    "ref_wave = S.Vega.wave\n",
    "\n",
    "# convert surface flux to observed flux\n",
    "d_vega = 25.05 * u.lightyear\n",
    "r_vega = 164.32 * 10**8 * u.cm\n",
    "irradiance = ref_flux * u.erg / u.s / u.cm**2 / u.Angstrom\n",
    "\n",
    "F = irradiance * r_vega.to(u.m)**2 / d_vega.to(u.m) **2\n",
    "F"
   ]
  },
  {
   "cell_type": "code",
   "execution_count": null,
   "metadata": {
    "ExecuteTime": {
     "end_time": "2024-06-02T05:34:23.467708Z",
     "start_time": "2024-06-02T05:34:23.460517Z"
    }
   },
   "outputs": [],
   "source": [
    "# converting to photon flux now as in PS3 - we don't need to convert because we aren't gonna integrate peaks to find brightness\n",
    "freqs = const.c / (ref_wave * u.Angstrom).to(u.m)\n",
    "E = const.h * freqs # J\n",
    "photon_flux = F / E\n",
    "photon_flux = photon_flux.to(1 / u.s / u.Angstrom / u.cm**2)  # photons/s/A/cm^2\n",
    "photon_flux"
   ]
  },
  {
   "cell_type": "code",
   "execution_count": null,
   "metadata": {
    "ExecuteTime": {
     "end_time": "2024-06-02T05:34:28.891467Z",
     "start_time": "2024-06-02T05:34:28.801525Z"
    }
   },
   "outputs": [],
   "source": [
    "plt.plot(ref_wave, photon_flux)\n",
    "plt.axvline(np.max(wvl_range_B_trunc), color='r', linestyle='--')\n",
    "plt.axvline(np.min(wvl_range_R), color='b', linestyle='--')\n",
    "plt.xlim(3500, 10000)\n",
    "plt.xlabel(\"Wavelength [A]\")\n",
    "plt.ylabel(\"Reference star photon flux\")"
   ]
  },
  {
   "cell_type": "code",
   "execution_count": null,
   "metadata": {
    "ExecuteTime": {
     "end_time": "2024-06-02T05:34:35.250196Z",
     "start_time": "2024-06-02T05:34:35.178778Z"
    }
   },
   "outputs": [],
   "source": [
    "# upsampling reference spectrum\n",
    "from scipy import signal\n",
    "ref_flux_B = photon_flux[(ref_wave > np.min(wvl_range_B_trunc)) & (ref_wave < np.max(wvl_range_B_trunc))]\n",
    "resampled_flux_B = signal.resample(ref_flux_B, wvl_range_B_trunc.shape[0])\n",
    "\n",
    "ref_flux_R = photon_flux[(ref_wave > np.min(wvl_range_R)) & (ref_wave < np.max(wvl_range_R))]\n",
    "resampled_flux_R = signal.resample(ref_flux_R, wvl_range_R.shape[0])\n",
    "\n",
    "# TODO: need to trim edges because of artifacts created by Fourier-window interpolation\n",
    "plt.plot(wvl_range_B_trunc, resampled_flux_B)\n",
    "plt.plot(wvl_range_R, resampled_flux_R)\n",
    "plt.xlabel(\"Wavelength (Angstroms)\")\n",
    "plt.ylabel(\"Resampled reference spectrum (photon/s/A/cm^2)\")\n",
    "# plt.xlim(3500, 6000)"
   ]
  },
  {
   "cell_type": "code",
   "execution_count": null,
   "metadata": {
    "ExecuteTime": {
     "end_time": "2024-06-02T05:34:38.663664Z",
     "start_time": "2024-06-02T05:34:38.599471Z"
    }
   },
   "outputs": [],
   "source": [
    "ref_flux_resampled_combined = np.hstack([resampled_flux_B, resampled_flux_R]) / u.s / u.Angstrom / u.cm**2\n",
    "ref_flux_resampled_combined *= np.gradient(wvl_solution) * u.Angstrom \n",
    "palomar_radius = 5.08 / 2 * u.m\n",
    "\n",
    "ref_flux_resampled_combined *= (palomar_radius.to(u.cm))**2 * np.pi\n",
    "plt.plot(wvl_solution, ref_flux_resampled_combined)\n",
    "plt.xlabel(f'Wavelength [A]')\n",
    "plt.ylabel(f'Photon Flux [{ref_flux_resampled_combined.unit}]')"
   ]
  },
  {
   "cell_type": "markdown",
   "metadata": {},
   "source": [
    "\n",
    "## Process Science data\n",
    "- All above steps on science data to extract spectrum from images\n",
    "\n",
    "### Rectify, reduce, airmass-correct frames"
   ]
  },
  {
   "cell_type": "code",
   "execution_count": null,
   "metadata": {
    "ExecuteTime": {
     "end_time": "2024-06-02T04:30:51.225258Z",
     "start_time": "2024-06-02T04:30:51.216580Z"
    }
   },
   "outputs": [],
   "source": [
    "science = hdr_df[(hdr_df['IMGTYPE']=='object') & (hdr_df['OBJECT'] != 'HD 158261')]\n",
    "science"
   ]
  },
  {
   "cell_type": "code",
   "execution_count": null,
   "metadata": {
    "ExecuteTime": {
     "end_time": "2024-06-02T04:30:51.231660Z",
     "start_time": "2024-06-02T04:30:51.227288Z"
    }
   },
   "outputs": [],
   "source": [
    "# TODO: if applying airmass correction, then replace create_master with following function \n",
    "# that does median stacking after applying rectification, reduction, correction to each individual frame\n",
    "def master_science_frame(color):\n",
    "    # TODO: split red and blue\n",
    "\n",
    "    science_wvl, extinction_wvl, extinction = None #TODO: add np arrays when available\n",
    "    science_frames = []\n",
    "    for fname in science.index:\n",
    "        frame = util.rectify_frame(data[fname], trace_y_R, y_bound_upper_R, y_bound_lower_R)\n",
    "        frame = util.reduce_frame(frame, science.loc[fname, 'EXPTIME'], normalised_flat_R, master_bias_red)\n",
    "        frame = util.correct_airmass(science_wvl, frame, extinction_wvl, extinction, science.loc[fname, 'AIRMASS'])\n",
    "        science_frames.append(frame)\n",
    "\n",
    "    return np.median(np.array(science_frames), axis=0)"
   ]
  },
  {
   "cell_type": "code",
   "execution_count": null,
   "metadata": {
    "ExecuteTime": {
     "end_time": "2024-06-02T04:30:51.565676Z",
     "start_time": "2024-06-02T04:30:51.233098Z"
    }
   },
   "outputs": [],
   "source": [
    "science_master_red = create_master(science, 'red', master_bias_red)\n",
    "science_master_blue = create_master(science, 'blue', master_bias_blue)\n",
    "science_master_red.shape, science_master_blue.shape"
   ]
  },
  {
   "cell_type": "code",
   "execution_count": null,
   "metadata": {},
   "outputs": [],
   "source": [
    "# apply step #1-2 from \"Rectify red\" section\n",
    "science_red_rectified = util.rectify_frame(\n",
    "    science_master_red, trace_y_R, y_bound_upper_R, y_bound_lower_R\n",
    "    )[:, x_trim_mask_R]\n",
    "\n",
    "util.plot_frame2(science_red_rectified, label='counts/s', title='Rectified SN 2024eze (red)', prange=prange_R)\n",
    "plt.axhline(trace_y_idx_R, color='r', linewidth=0.5)"
   ]
  },
  {
   "cell_type": "code",
   "execution_count": null,
   "metadata": {},
   "outputs": [],
   "source": [
    "# apply step #1-4 from \"Rectify blue\" section\n",
    "science_blue_rectified = util.rectify_frame(\n",
    "    science_master_blue.T, trace_y_B, y_bound_upper_B, y_bound_lower_B\n",
    "    )[:, x_trim_mask_B][:,::-1]\n",
    "\n",
    "util.plot_frame2(science_blue_rectified, label='counts/s', title='Rectified SN 2024eze (blue)', prange=prange_R)\n",
    "plt.axhline(trace_y_idx_B, color='r', linewidth=0.5)"
   ]
  },
  {
   "cell_type": "code",
   "execution_count": null,
   "metadata": {},
   "outputs": [],
   "source": [
    "reduced_rect_science_R = science_red_rectified / normalised_flat_R\n",
    "\n",
    "util.plot_frame2(reduced_rect_science_R, label='counts/s', title='Reduced, rectified SN 2024eze (red)', prange=prange_R)\n",
    "plt.axhline(trace_y_idx_R, color='r', linewidth=0.5, alpha=0.7)"
   ]
  },
  {
   "cell_type": "code",
   "execution_count": null,
   "metadata": {},
   "outputs": [],
   "source": [
    "reduced_rect_science_B = science_blue_rectified / normalised_flat_B\n",
    "\n",
    "util.plot_frame2(reduced_rect_science_B, label='counts/s', title='Reduced, rectified SN 2024eze (blue)', prange=prange_B)\n",
    "plt.axhline(trace_y_idx_B, color='r', linewidth=0.5, alpha=0.7)"
   ]
  },
  {
   "cell_type": "markdown",
   "metadata": {},
   "source": [
    "### Extract source and background\n",
    "#### Red"
   ]
  },
  {
   "cell_type": "code",
   "execution_count": null,
   "metadata": {},
   "outputs": [],
   "source": [
    "sci_aperture_idx_R = (trace_y_idx_R+2-5, trace_y_idx_R+2+6)\n",
    "\n",
    "plt.plot(np.sum(reduced_rect_science_R, axis=1))\n",
    "plt.title('Row-summed Red science data')\n",
    "\n",
    "plt.axvline(trace_y_idx_R+2, color='r', alpha=0.8)\n",
    "plt.axvline(sci_aperture_idx_R[0], color='r', alpha=0.8)\n",
    "plt.axvline(sci_aperture_idx_R[1], color='r', alpha=0.8)\n",
    "plt.xlim(50, 200)"
   ]
  },
  {
   "cell_type": "code",
   "execution_count": null,
   "metadata": {},
   "outputs": [],
   "source": [
    "util.plot_frame(reduced_rect_science_R, prange=(10, 90), aspect=7)\n",
    "plt.title('Red science data (with source and background apertures)')\n",
    "\n",
    "plt.axhline(y=sci_aperture_idx_R[0], color='r', alpha=0.5)\n",
    "plt.axhline(y=sci_aperture_idx_R[1], color='r', alpha=0.5)\n",
    "\n",
    "\n",
    "sci_bg_upper_idx_R = (sci_aperture_idx_R[1]+5, sci_aperture_idx_R[1]+15)\n",
    "sci_bg_lower_idx_R = (sci_aperture_idx_R[0]-15, sci_aperture_idx_R[0]-5)\n",
    "plt.axhline(sci_bg_upper_idx_R[0], color='cyan', alpha=0.8)\n",
    "plt.axhline(sci_bg_upper_idx_R[1], color='cyan', alpha=0.8)\n",
    "plt.axhline(sci_bg_lower_idx_R[0], color='yellow', alpha=0.8)\n",
    "plt.axhline(sci_bg_lower_idx_R[1], color='yellow', alpha=0.8)\n",
    "\n",
    "plt.ylim(trace_y_idx_R - 60,trace_y_idx_R + 60); "
   ]
  },
  {
   "cell_type": "code",
   "execution_count": null,
   "metadata": {},
   "outputs": [],
   "source": [
    "sci_source_spec_R = np.sum(reduced_rect_science_R[sci_aperture_idx_R[0] : sci_aperture_idx_R[1]+1], axis=0)\n",
    "\n",
    "plt.plot(wvl_range_R, sci_source_spec_R)\n",
    "plt.ylabel('counts/s')\n",
    "plt.xlabel('Wavelength [A]')\n",
    "plt.title('SN 2024eze spectrum w/ Background (RED)')"
   ]
  },
  {
   "cell_type": "code",
   "execution_count": null,
   "metadata": {},
   "outputs": [],
   "source": [
    "sci_bg_spec_R = np.median(np.concatenate((\n",
    "    reduced_rect_science_R[sci_bg_lower_idx_R[0]: sci_bg_lower_idx_R[1]+1],\n",
    "    reduced_rect_science_R[sci_bg_upper_idx_R[0]: sci_bg_upper_idx_R[1]+1]),\n",
    "    axis=0), axis=0)\n",
    "\n",
    "plt.plot(wvl_range_R, sci_bg_spec_R)\n",
    "plt.ylabel('counts/s')\n",
    "plt.xlabel('Wavelength [A]')\n",
    "plt.title('SN 2024eze background (RED)')"
   ]
  },
  {
   "cell_type": "code",
   "execution_count": null,
   "metadata": {},
   "outputs": [],
   "source": [
    "sci_aperture_nrows_R = sci_aperture_idx_R[1] - sci_aperture_idx_R[0]+1\n",
    "science_spectrum_R = sci_source_spec_R - (sci_bg_spec_R * sci_aperture_nrows_R)\n",
    "\n",
    "plt.plot(wvl_range_R, science_spectrum_R)\n",
    "plt.ylabel('counts/s')\n",
    "plt.xlabel('Wavelength [A]')\n",
    "plt.title('SN 2024eze background-subtracted spectrum (RED)');"
   ]
  },
  {
   "cell_type": "markdown",
   "metadata": {},
   "source": [
    "#### Blue"
   ]
  },
  {
   "cell_type": "code",
   "execution_count": null,
   "metadata": {},
   "outputs": [],
   "source": [
    "sci_aperture_idx_B = (trace_y_idx_B-3-6, trace_y_idx_B-3+6)\n",
    "\n",
    "plt.plot(np.sum(reduced_rect_science_B, axis=1))\n",
    "plt.title('Row-summed BLUE science data')\n",
    "\n",
    "plt.axvline(trace_y_idx_B-3, color='r', alpha=0.8)\n",
    "plt.axvline(sci_aperture_idx_B[0], color='r', alpha=0.8)\n",
    "plt.axvline(sci_aperture_idx_B[1], color='r', alpha=0.8)\n",
    "plt.xlim(150, 250)"
   ]
  },
  {
   "cell_type": "code",
   "execution_count": null,
   "metadata": {},
   "outputs": [],
   "source": [
    "util.plot_frame(reduced_rect_science_B, prange=(8, 92), aspect=4)\n",
    "plt.title('BLUE science data (with source and background apertures)')\n",
    "\n",
    "plt.axhline(y=sci_aperture_idx_B[0], color='r', alpha=0.5)\n",
    "plt.axhline(y=sci_aperture_idx_B[1], color='r', alpha=0.5)\n",
    "\n",
    "\n",
    "sci_bg_upper_idx_B = (sci_aperture_idx_B[1]+5, sci_aperture_idx_B[1]+15)\n",
    "sci_bg_lower_idx_B = (sci_aperture_idx_B[0]-15, sci_aperture_idx_B[0]-5)\n",
    "plt.axhline(sci_bg_upper_idx_B[0], color='cyan', alpha=0.8)\n",
    "plt.axhline(sci_bg_upper_idx_B[1], color='cyan', alpha=0.8)\n",
    "plt.axhline(sci_bg_lower_idx_B[0], color='yellow', alpha=0.8)\n",
    "plt.axhline(sci_bg_lower_idx_B[1], color='yellow', alpha=0.8)\n",
    "\n",
    "plt.ylim(trace_y_idx_B - 60,trace_y_idx_B + 60); "
   ]
  },
  {
   "cell_type": "code",
   "execution_count": null,
   "metadata": {},
   "outputs": [],
   "source": [
    "sci_source_spec_B = np.sum(\n",
    "    reduced_rect_science_B[sci_aperture_idx_B[0] : sci_aperture_idx_B[1]+1, :end_idx_B], \n",
    "    axis=0)\n",
    "\n",
    "plt.plot(wvl_range_B_trunc, sci_source_spec_B)\n",
    "plt.ylabel('counts/s')\n",
    "plt.xlabel('Wavelength [A]')\n",
    "plt.title('SN 2024eze spectrum w/ Background (BLUE)')"
   ]
  },
  {
   "cell_type": "code",
   "execution_count": null,
   "metadata": {},
   "outputs": [],
   "source": [
    "sci_bg_spec_B = np.median(np.concatenate((\n",
    "    reduced_rect_science_B[sci_bg_lower_idx_B[0]: sci_bg_lower_idx_B[1]+1],\n",
    "    reduced_rect_science_B[sci_bg_upper_idx_B[0]: sci_bg_upper_idx_B[1]+1]),\n",
    "    axis=0)[:, :end_idx_B], axis=0)\n",
    "\n",
    "plt.plot(wvl_range_B_trunc, sci_bg_spec_B)\n",
    "plt.ylabel('counts/s')\n",
    "plt.xlabel('Wavelength [A]')\n",
    "plt.title('SN 2024eze background (BLUE)')"
   ]
  },
  {
   "cell_type": "code",
   "execution_count": null,
   "metadata": {},
   "outputs": [],
   "source": [
    "sci_aperture_nrows_B = sci_aperture_idx_B[1] - sci_aperture_idx_B[0]+1\n",
    "science_spectrum_B = sci_source_spec_B - (sci_bg_spec_B * sci_aperture_nrows_B)\n",
    "\n",
    "plt.plot(wvl_range_B_trunc, science_spectrum_B)\n",
    "plt.ylabel('counts/s')\n",
    "plt.xlabel('Wavelength [A]')\n",
    "plt.title('SN 2024eze background-subtracted spectrum (BLUE)');"
   ]
  },
  {
   "cell_type": "markdown",
   "metadata": {},
   "source": [
    "### Calibrate combined spectrum"
   ]
  },
  {
   "cell_type": "code",
   "execution_count": null,
   "metadata": {},
   "outputs": [],
   "source": [
    "science_spectrum_combined = np.hstack([science_spectrum_B, science_spectrum_R]) * u.Unit('count/s')\n",
    "plt.plot(wvl_solution, science_spectrum_combined)\n",
    "plt.xlabel(\"Wavelength [A]\")\n",
    "plt.ylabel(\"counts / s\")\n",
    "plt.title(\"SN 2024eze spectrum (COMBINED)\");"
   ]
  },
  {
   "cell_type": "code",
   "execution_count": null,
   "metadata": {},
   "outputs": [],
   "source": [
    "science_spectrum_calibrated = science_spectrum_combined * calibration_flux\n",
    "science_spectrum_calibrated"
   ]
  },
  {
   "cell_type": "code",
   "execution_count": null,
   "metadata": {},
   "outputs": [],
   "source": [
    "plt.figure(figsize=(15, 7))\n",
    "plt.plot(wvl_solution, science_spectrum_calibrated)\n",
    "\n",
    "plt.ylim(0, 0.4e-15)\n",
    "plt.xlabel(\"Wavelength [A]\")\n",
    "plt.ylabel(\"Flux [$erg\\ s^{-1}\\ cm^{-2}\\ A^{-1}$]\")\n",
    "plt.title(\"SN 2024eze calibrated spectrum\");"
   ]
  },
  {
   "cell_type": "markdown",
   "metadata": {},
   "source": [
    "## Data Analysis"
   ]
  },
  {
   "cell_type": "code",
   "execution_count": null,
   "metadata": {},
   "outputs": [],
   "source": [
    "tns_data = pd.read_csv('tns_2024eze_2024-04-12_11-13-24_P200_DBSP_ZTF.ascii',\n",
    "                        sep='\\t',\n",
    "                        na_values=['None'],\n",
    "                        names=['wavelength', 'flux'],\n",
    "                        dtype={'wavelength': 'float64', 'flux': 'float64'})\n",
    "tns_data"
   ]
  },
  {
   "cell_type": "code",
   "execution_count": null,
   "metadata": {},
   "outputs": [],
   "source": [
    "plt.figure(figsize=(15, 8))\n",
    "plt.plot(wvl_solution, science_spectrum_calibrated/np.max(science_spectrum_calibrated), \n",
    "         label='2024-05-04 (observed)')\n",
    "plt.plot(tns_data.wavelength, tns_data.flux/np.max(tns_data.flux), \n",
    "         label='2024-04-12 (TNS)', alpha=0.5)\n",
    "\n",
    "# plt.ylim(0, 0.4e-15)\n",
    "plt.xlabel(\"Wavelength [A]\")\n",
    "plt.ylabel(\"Normalised flux\")\n",
    "plt.title(\"SN 2024eze spectral comparison\")\n",
    "plt.legend();"
   ]
  },
  {
   "cell_type": "code",
   "execution_count": null,
   "metadata": {},
   "outputs": [],
   "source": []
  }
 ],
 "metadata": {
  "kernelspec": {
   "display_name": "Python 3 (ipykernel)",
   "language": "python",
   "name": "python3"
  },
  "language_info": {
   "codemirror_mode": {
    "name": "ipython",
    "version": 3
   },
   "file_extension": ".py",
   "mimetype": "text/x-python",
   "name": "python",
   "nbconvert_exporter": "python",
   "pygments_lexer": "ipython3",
   "version": "3.10.9"
  }
 },
 "nbformat": 4,
 "nbformat_minor": 2
}
